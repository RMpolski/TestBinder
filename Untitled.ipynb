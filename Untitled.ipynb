{
 "cells": [
  {
   "cell_type": "code",
   "execution_count": 1,
   "id": "2aeff4a1-335e-4532-96e1-c277a106457e",
   "metadata": {},
   "outputs": [],
   "source": [
    "import qcodes as qc\n",
    "import qcodes.instrument_drivers.nplab_drivers as npd\n",
    "import numpy as np\n",
    "import matplotlib.pyplot as plt"
   ]
  },
  {
   "cell_type": "markdown",
   "id": "531c6256-114b-410c-a524-7aa70bb851fe",
   "metadata": {},
   "source": [
    "Create a manual parameter"
   ]
  },
  {
   "cell_type": "code",
   "execution_count": 2,
   "id": "cc85eced-abdc-4499-a974-dea47d6b8770",
   "metadata": {},
   "outputs": [],
   "source": [
    "M1 = qc.Parameter('M1', set_cmd=None, get_cmd=None)"
   ]
  },
  {
   "cell_type": "code",
   "execution_count": 3,
   "id": "bfb62621-6a7e-49aa-a2fd-66ec118f7f7a",
   "metadata": {},
   "outputs": [],
   "source": [
    "M1(5.2)"
   ]
  },
  {
   "cell_type": "code",
   "execution_count": 4,
   "id": "648153d5-de63-4a04-8784-3fa9586bea27",
   "metadata": {},
   "outputs": [
    {
     "data": {
      "text/plain": [
       "5.2"
      ]
     },
     "execution_count": 4,
     "metadata": {},
     "output_type": "execute_result"
    }
   ],
   "source": [
    "M1()"
   ]
  },
  {
   "cell_type": "markdown",
   "id": "fb083e7d-a6ec-453b-97ac-4e2b31da83e5",
   "metadata": {},
   "source": [
    "Define a parameter that bases its value on M1"
   ]
  },
  {
   "cell_type": "code",
   "execution_count": 11,
   "id": "ba2367c0-b156-41fe-a230-5c88b2d73368",
   "metadata": {},
   "outputs": [],
   "source": [
    "def m2getcmd():\n",
    "    return M1()**2 - M1()*4 + np.random.randn()"
   ]
  },
  {
   "cell_type": "code",
   "execution_count": 12,
   "id": "2e25a7b2-79ac-40f0-b216-c7d99f841ade",
   "metadata": {},
   "outputs": [],
   "source": [
    "M2 = qc.Parameter('M2', get_cmd=m2getcmd)"
   ]
  },
  {
   "cell_type": "code",
   "execution_count": 13,
   "id": "006d3f65-2ba7-4f4f-8b89-f6a45a1e1f27",
   "metadata": {},
   "outputs": [],
   "source": [
    "M1(2)"
   ]
  },
  {
   "cell_type": "code",
   "execution_count": 17,
   "id": "850f58b8-d975-410f-bd63-2fec6cdfc3b3",
   "metadata": {},
   "outputs": [
    {
     "data": {
      "text/plain": [
       "-4.412045614023662"
      ]
     },
     "execution_count": 17,
     "metadata": {},
     "output_type": "execute_result"
    }
   ],
   "source": [
    "M2()"
   ]
  },
  {
   "cell_type": "markdown",
   "id": "52fb1b8d-ff18-4fb5-a5aa-e464a7e07686",
   "metadata": {},
   "source": [
    "Run a sweep"
   ]
  },
  {
   "cell_type": "code",
   "execution_count": null,
   "id": "470b1d87-0751-4042-bed2-5e6153eb841c",
   "metadata": {},
   "outputs": [],
   "source": [
    "m1val = np.linspace(-1, 8, 101)\n",
    "data1, plot1 = npd.single_param_sweep(M1, m1val, 0.1, M2, DataName='M1set_M2measurement')"
   ]
  },
  {
   "cell_type": "code",
   "execution_count": null,
   "id": "d94b8507-16ef-4fec-a62d-1fd9e510eb41",
   "metadata": {},
   "outputs": [],
   "source": []
  }
 ],
 "metadata": {
  "kernelspec": {
   "display_name": "qcodes",
   "language": "python",
   "name": "qcodes"
  },
  "language_info": {
   "codemirror_mode": {
    "name": "ipython",
    "version": 3
   },
   "file_extension": ".py",
   "mimetype": "text/x-python",
   "name": "python",
   "nbconvert_exporter": "python",
   "pygments_lexer": "ipython3",
   "version": "3.8.0"
  }
 },
 "nbformat": 4,
 "nbformat_minor": 5
}
